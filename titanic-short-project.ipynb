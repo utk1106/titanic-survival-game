{
 "cells": [
  {
   "cell_type": "code",
   "execution_count": 1,
   "id": "18c0c619",
   "metadata": {},
   "outputs": [],
   "source": [
    "import pandas as pd\n",
    "import numpy as np\n",
    "import matplotlib.pyplot as plt\n",
    "import seaborn as sns\n",
    "%matplotlib inline \n",
    "import warnings\n",
    "warnings.filterwarnings('ignore')"
   ]
  },
  {
   "cell_type": "code",
   "execution_count": 2,
   "id": "593d0665",
   "metadata": {},
   "outputs": [],
   "source": [
    "train = pd.read_csv('train.csv')\n",
    "test = pd.read_csv('test.csv')"
   ]
  },
  {
   "cell_type": "markdown",
   "id": "28041538",
   "metadata": {},
   "source": [
    "# EDA"
   ]
  },
  {
   "cell_type": "code",
   "execution_count": 3,
   "id": "c5c1d872",
   "metadata": {},
   "outputs": [
    {
     "data": {
      "text/plain": [
       "((891, 12), (418, 11))"
      ]
     },
     "execution_count": 3,
     "metadata": {},
     "output_type": "execute_result"
    }
   ],
   "source": [
    "train.shape, test.shape"
   ]
  },
  {
   "cell_type": "markdown",
   "id": "9f88346b",
   "metadata": {},
   "source": [
    "the training set contains 891 observations (rows) and 12 variables or features (columns). The test set contains less observations (418) and only 11 features."
   ]
  },
  {
   "cell_type": "code",
   "execution_count": 4,
   "id": "22cee47e",
   "metadata": {},
   "outputs": [
    {
     "data": {
      "text/html": [
       "<div>\n",
       "<style scoped>\n",
       "    .dataframe tbody tr th:only-of-type {\n",
       "        vertical-align: middle;\n",
       "    }\n",
       "\n",
       "    .dataframe tbody tr th {\n",
       "        vertical-align: top;\n",
       "    }\n",
       "\n",
       "    .dataframe thead th {\n",
       "        text-align: right;\n",
       "    }\n",
       "</style>\n",
       "<table border=\"1\" class=\"dataframe\">\n",
       "  <thead>\n",
       "    <tr style=\"text-align: right;\">\n",
       "      <th></th>\n",
       "      <th>PassengerId</th>\n",
       "      <th>Survived</th>\n",
       "      <th>Pclass</th>\n",
       "      <th>Name</th>\n",
       "      <th>Sex</th>\n",
       "      <th>Age</th>\n",
       "      <th>SibSp</th>\n",
       "      <th>Parch</th>\n",
       "      <th>Ticket</th>\n",
       "      <th>Fare</th>\n",
       "      <th>Cabin</th>\n",
       "      <th>Embarked</th>\n",
       "    </tr>\n",
       "  </thead>\n",
       "  <tbody>\n",
       "    <tr>\n",
       "      <th>0</th>\n",
       "      <td>1</td>\n",
       "      <td>0</td>\n",
       "      <td>3</td>\n",
       "      <td>Braund, Mr. Owen Harris</td>\n",
       "      <td>male</td>\n",
       "      <td>22.0</td>\n",
       "      <td>1</td>\n",
       "      <td>0</td>\n",
       "      <td>A/5 21171</td>\n",
       "      <td>7.2500</td>\n",
       "      <td>NaN</td>\n",
       "      <td>S</td>\n",
       "    </tr>\n",
       "    <tr>\n",
       "      <th>1</th>\n",
       "      <td>2</td>\n",
       "      <td>1</td>\n",
       "      <td>1</td>\n",
       "      <td>Cumings, Mrs. John Bradley (Florence Briggs Th...</td>\n",
       "      <td>female</td>\n",
       "      <td>38.0</td>\n",
       "      <td>1</td>\n",
       "      <td>0</td>\n",
       "      <td>PC 17599</td>\n",
       "      <td>71.2833</td>\n",
       "      <td>C85</td>\n",
       "      <td>C</td>\n",
       "    </tr>\n",
       "    <tr>\n",
       "      <th>2</th>\n",
       "      <td>3</td>\n",
       "      <td>1</td>\n",
       "      <td>3</td>\n",
       "      <td>Heikkinen, Miss. Laina</td>\n",
       "      <td>female</td>\n",
       "      <td>26.0</td>\n",
       "      <td>0</td>\n",
       "      <td>0</td>\n",
       "      <td>STON/O2. 3101282</td>\n",
       "      <td>7.9250</td>\n",
       "      <td>NaN</td>\n",
       "      <td>S</td>\n",
       "    </tr>\n",
       "    <tr>\n",
       "      <th>3</th>\n",
       "      <td>4</td>\n",
       "      <td>1</td>\n",
       "      <td>1</td>\n",
       "      <td>Futrelle, Mrs. Jacques Heath (Lily May Peel)</td>\n",
       "      <td>female</td>\n",
       "      <td>35.0</td>\n",
       "      <td>1</td>\n",
       "      <td>0</td>\n",
       "      <td>113803</td>\n",
       "      <td>53.1000</td>\n",
       "      <td>C123</td>\n",
       "      <td>S</td>\n",
       "    </tr>\n",
       "    <tr>\n",
       "      <th>4</th>\n",
       "      <td>5</td>\n",
       "      <td>0</td>\n",
       "      <td>3</td>\n",
       "      <td>Allen, Mr. William Henry</td>\n",
       "      <td>male</td>\n",
       "      <td>35.0</td>\n",
       "      <td>0</td>\n",
       "      <td>0</td>\n",
       "      <td>373450</td>\n",
       "      <td>8.0500</td>\n",
       "      <td>NaN</td>\n",
       "      <td>S</td>\n",
       "    </tr>\n",
       "  </tbody>\n",
       "</table>\n",
       "</div>"
      ],
      "text/plain": [
       "   PassengerId  Survived  Pclass  \\\n",
       "0            1         0       3   \n",
       "1            2         1       1   \n",
       "2            3         1       3   \n",
       "3            4         1       1   \n",
       "4            5         0       3   \n",
       "\n",
       "                                                Name     Sex   Age  SibSp  \\\n",
       "0                            Braund, Mr. Owen Harris    male  22.0      1   \n",
       "1  Cumings, Mrs. John Bradley (Florence Briggs Th...  female  38.0      1   \n",
       "2                             Heikkinen, Miss. Laina  female  26.0      0   \n",
       "3       Futrelle, Mrs. Jacques Heath (Lily May Peel)  female  35.0      1   \n",
       "4                           Allen, Mr. William Henry    male  35.0      0   \n",
       "\n",
       "   Parch            Ticket     Fare Cabin Embarked  \n",
       "0      0         A/5 21171   7.2500   NaN        S  \n",
       "1      0          PC 17599  71.2833   C85        C  \n",
       "2      0  STON/O2. 3101282   7.9250   NaN        S  \n",
       "3      0            113803  53.1000  C123        S  \n",
       "4      0            373450   8.0500   NaN        S  "
      ]
     },
     "execution_count": 4,
     "metadata": {},
     "output_type": "execute_result"
    }
   ],
   "source": [
    "train.head()"
   ]
  },
  {
   "cell_type": "code",
   "execution_count": 5,
   "id": "149bbbe7",
   "metadata": {},
   "outputs": [
    {
     "data": {
      "text/html": [
       "<div>\n",
       "<style scoped>\n",
       "    .dataframe tbody tr th:only-of-type {\n",
       "        vertical-align: middle;\n",
       "    }\n",
       "\n",
       "    .dataframe tbody tr th {\n",
       "        vertical-align: top;\n",
       "    }\n",
       "\n",
       "    .dataframe thead th {\n",
       "        text-align: right;\n",
       "    }\n",
       "</style>\n",
       "<table border=\"1\" class=\"dataframe\">\n",
       "  <thead>\n",
       "    <tr style=\"text-align: right;\">\n",
       "      <th></th>\n",
       "      <th>PassengerId</th>\n",
       "      <th>Pclass</th>\n",
       "      <th>Name</th>\n",
       "      <th>Sex</th>\n",
       "      <th>Age</th>\n",
       "      <th>SibSp</th>\n",
       "      <th>Parch</th>\n",
       "      <th>Ticket</th>\n",
       "      <th>Fare</th>\n",
       "      <th>Cabin</th>\n",
       "      <th>Embarked</th>\n",
       "    </tr>\n",
       "  </thead>\n",
       "  <tbody>\n",
       "    <tr>\n",
       "      <th>0</th>\n",
       "      <td>892</td>\n",
       "      <td>3</td>\n",
       "      <td>Kelly, Mr. James</td>\n",
       "      <td>male</td>\n",
       "      <td>34.5</td>\n",
       "      <td>0</td>\n",
       "      <td>0</td>\n",
       "      <td>330911</td>\n",
       "      <td>7.8292</td>\n",
       "      <td>NaN</td>\n",
       "      <td>Q</td>\n",
       "    </tr>\n",
       "    <tr>\n",
       "      <th>1</th>\n",
       "      <td>893</td>\n",
       "      <td>3</td>\n",
       "      <td>Wilkes, Mrs. James (Ellen Needs)</td>\n",
       "      <td>female</td>\n",
       "      <td>47.0</td>\n",
       "      <td>1</td>\n",
       "      <td>0</td>\n",
       "      <td>363272</td>\n",
       "      <td>7.0000</td>\n",
       "      <td>NaN</td>\n",
       "      <td>S</td>\n",
       "    </tr>\n",
       "    <tr>\n",
       "      <th>2</th>\n",
       "      <td>894</td>\n",
       "      <td>2</td>\n",
       "      <td>Myles, Mr. Thomas Francis</td>\n",
       "      <td>male</td>\n",
       "      <td>62.0</td>\n",
       "      <td>0</td>\n",
       "      <td>0</td>\n",
       "      <td>240276</td>\n",
       "      <td>9.6875</td>\n",
       "      <td>NaN</td>\n",
       "      <td>Q</td>\n",
       "    </tr>\n",
       "    <tr>\n",
       "      <th>3</th>\n",
       "      <td>895</td>\n",
       "      <td>3</td>\n",
       "      <td>Wirz, Mr. Albert</td>\n",
       "      <td>male</td>\n",
       "      <td>27.0</td>\n",
       "      <td>0</td>\n",
       "      <td>0</td>\n",
       "      <td>315154</td>\n",
       "      <td>8.6625</td>\n",
       "      <td>NaN</td>\n",
       "      <td>S</td>\n",
       "    </tr>\n",
       "    <tr>\n",
       "      <th>4</th>\n",
       "      <td>896</td>\n",
       "      <td>3</td>\n",
       "      <td>Hirvonen, Mrs. Alexander (Helga E Lindqvist)</td>\n",
       "      <td>female</td>\n",
       "      <td>22.0</td>\n",
       "      <td>1</td>\n",
       "      <td>1</td>\n",
       "      <td>3101298</td>\n",
       "      <td>12.2875</td>\n",
       "      <td>NaN</td>\n",
       "      <td>S</td>\n",
       "    </tr>\n",
       "  </tbody>\n",
       "</table>\n",
       "</div>"
      ],
      "text/plain": [
       "   PassengerId  Pclass                                          Name     Sex  \\\n",
       "0          892       3                              Kelly, Mr. James    male   \n",
       "1          893       3              Wilkes, Mrs. James (Ellen Needs)  female   \n",
       "2          894       2                     Myles, Mr. Thomas Francis    male   \n",
       "3          895       3                              Wirz, Mr. Albert    male   \n",
       "4          896       3  Hirvonen, Mrs. Alexander (Helga E Lindqvist)  female   \n",
       "\n",
       "    Age  SibSp  Parch   Ticket     Fare Cabin Embarked  \n",
       "0  34.5      0      0   330911   7.8292   NaN        Q  \n",
       "1  47.0      1      0   363272   7.0000   NaN        S  \n",
       "2  62.0      0      0   240276   9.6875   NaN        Q  \n",
       "3  27.0      0      0   315154   8.6625   NaN        S  \n",
       "4  22.0      1      1  3101298  12.2875   NaN        S  "
      ]
     },
     "execution_count": 5,
     "metadata": {},
     "output_type": "execute_result"
    }
   ],
   "source": [
    "test.head()"
   ]
  },
  {
   "cell_type": "code",
   "execution_count": 6,
   "id": "6174e900",
   "metadata": {},
   "outputs": [
    {
     "data": {
      "text/plain": [
       "(Index(['PassengerId', 'Survived', 'Pclass', 'Name', 'Sex', 'Age', 'SibSp',\n",
       "        'Parch', 'Ticket', 'Fare', 'Cabin', 'Embarked'],\n",
       "       dtype='object'),\n",
       " Index(['PassengerId', 'Pclass', 'Name', 'Sex', 'Age', 'SibSp', 'Parch',\n",
       "        'Ticket', 'Fare', 'Cabin', 'Embarked'],\n",
       "       dtype='object'))"
      ]
     },
     "execution_count": 6,
     "metadata": {},
     "output_type": "execute_result"
    }
   ],
   "source": [
    "train.columns, test.columns "
   ]
  },
  {
   "cell_type": "markdown",
   "id": "08c48c4e",
   "metadata": {},
   "source": [
    "We can see that both datasets contain exactly the same variables except for \"Survived\", which is missing in the test dataset since this is the variable we want to predict. It is a dummy variable, 1 means survived, 0 means not survived. The \"Name\" variable has unique values for every person and does not directly predict the chance of survival. However, we will not drop the feature at this point, but are going to extract some information from it in the section \"Feature Engineering\"."
   ]
  },
  {
   "cell_type": "code",
   "execution_count": 7,
   "id": "243f1efe",
   "metadata": {},
   "outputs": [
    {
     "name": "stdout",
     "output_type": "stream",
     "text": [
      "<class 'pandas.core.frame.DataFrame'>\n",
      "RangeIndex: 891 entries, 0 to 890\n",
      "Data columns (total 12 columns):\n",
      "PassengerId    891 non-null int64\n",
      "Survived       891 non-null int64\n",
      "Pclass         891 non-null int64\n",
      "Name           891 non-null object\n",
      "Sex            891 non-null object\n",
      "Age            714 non-null float64\n",
      "SibSp          891 non-null int64\n",
      "Parch          891 non-null int64\n",
      "Ticket         891 non-null object\n",
      "Fare           891 non-null float64\n",
      "Cabin          204 non-null object\n",
      "Embarked       889 non-null object\n",
      "dtypes: float64(2), int64(5), object(5)\n",
      "memory usage: 83.6+ KB\n"
     ]
    }
   ],
   "source": [
    "train.info()"
   ]
  },
  {
   "cell_type": "markdown",
   "id": "9b16765c",
   "metadata": {},
   "source": [
    "The variables \"Sex\", \"Ticket\", \"Cabin\" and \"Embarked\" are categorical data, the remaining features are numerical. will check numerical variables first and then at the categorical variables"
   ]
  },
  {
   "cell_type": "markdown",
   "id": "ea5e5102",
   "metadata": {},
   "source": [
    "In order to see which variables have an influence on the chance of survival, will also investigate the relation between each variable and the Target Variable \"Survived\"."
   ]
  },
  {
   "cell_type": "code",
   "execution_count": 8,
   "id": "8711e004",
   "metadata": {},
   "outputs": [
    {
     "data": {
      "text/plain": [
       "0.3838383838383838"
      ]
     },
     "execution_count": 8,
     "metadata": {},
     "output_type": "execute_result"
    }
   ],
   "source": [
    "np.mean(train.Survived)"
   ]
  },
  {
   "cell_type": "code",
   "execution_count": 9,
   "id": "89e4d1f8",
   "metadata": {},
   "outputs": [
    {
     "data": {
      "image/png": "[encoded data removed]",
      "text/plain": [
       "<Figure size 432x288 with 1 Axes>"
      ]
     },
     "metadata": {
      "needs_background": "light"
     },
     "output_type": "display_data"
    }
   ],
   "source": [
    "sns.countplot(data=train, x=\"Survived\");"
   ]
  },
  {
   "cell_type": "markdown",
   "id": "01443faf",
   "metadata": {},
   "source": [
    "Around 38.3% of the passengers survived the Titanic."
   ]
  },
  {
   "cell_type": "markdown",
   "id": "ac9e0a71",
   "metadata": {},
   "source": [
    "Pclass"
   ]
  },
  {
   "cell_type": "code",
   "execution_count": 10,
   "id": "46383645",
   "metadata": {},
   "outputs": [
    {
     "data": {
      "text/plain": [
       "3    491\n",
       "1    216\n",
       "2    184\n",
       "Name: Pclass, dtype: int64"
      ]
     },
     "execution_count": 10,
     "metadata": {},
     "output_type": "execute_result"
    }
   ],
   "source": [
    "train.Pclass.value_counts()"
   ]
  },
  {
   "cell_type": "markdown",
   "id": "99341a53",
   "metadata": {},
   "source": [
    "Pclass is short for Passenger Class and gives the class to which the passengers belong. 1 is the most expensive class, 3 the cheapest one. As expected most passengers belong to class 3, while class 2 contains the least passengers."
   ]
  },
  {
   "cell_type": "code",
   "execution_count": 11,
   "id": "8870b253",
   "metadata": {},
   "outputs": [
    {
     "data": {
      "image/png": "[encoded data removed]",
      "text/plain": [
       "<Figure size 432x288 with 1 Axes>"
      ]
     },
     "metadata": {
      "needs_background": "light"
     },
     "output_type": "display_data"
    }
   ],
   "source": [
    "sns.countplot(data=train, x=\"Pclass\", hue=\"Survived\");"
   ]
  },
  {
   "cell_type": "code",
   "execution_count": 12,
   "id": "65bb596f",
   "metadata": {},
   "outputs": [
    {
     "data": {
      "text/plain": [
       "5.667"
      ]
     },
     "execution_count": 12,
     "metadata": {},
     "output_type": "execute_result"
    }
   ],
   "source": [
    "round(5.6669, 3)"
   ]
  },
  {
   "cell_type": "code",
   "execution_count": 13,
   "id": "bcc0ad2d",
   "metadata": {},
   "outputs": [
    {
     "name": "stdout",
     "output_type": "stream",
     "text": [
      "0.6296\n",
      "0.4728\n",
      "0.2424\n"
     ]
    }
   ],
   "source": [
    "for i in [1,2,3]:\n",
    "    print(round(np.mean(train.Survived[train[\"Pclass\"]==i]), 4))"
   ]
  },
  {
   "cell_type": "markdown",
   "id": "f08b171f",
   "metadata": {},
   "source": [
    "The fraction of passengers, who survived is 63.0% for the first class, 47.3% for the second class and only 24.2% for the third class. The fraction of people surviving is therefore above the fraction of all people surviving the catastrophe for the first and second class and way below the mean for the third class. Clearly here that the class does play a very important role in surviving and that in the first class almost 2 out of 3 passengers survived."
   ]
  },
  {
   "cell_type": "markdown",
   "id": "40087e88",
   "metadata": {},
   "source": [
    "Age"
   ]
  },
  {
   "cell_type": "markdown",
   "id": "e6280b88",
   "metadata": {},
   "source": [
    "Since age is a continuous variable we can picture its distribution using a histogram and a kernel density estimator."
   ]
  },
  {
   "cell_type": "code",
   "execution_count": 14,
   "id": "1f1c1e23",
   "metadata": {},
   "outputs": [
    {
     "data": {
      "text/plain": [
       "177"
      ]
     },
     "execution_count": 14,
     "metadata": {},
     "output_type": "execute_result"
    }
   ],
   "source": [
    "train.Age.isnull().sum()"
   ]
  },
  {
   "cell_type": "code",
   "execution_count": 15,
   "id": "6d03d34e",
   "metadata": {},
   "outputs": [
    {
     "data": {
      "text/plain": [
       "(38.23, 29.88, 25.14)"
      ]
     },
     "execution_count": 15,
     "metadata": {},
     "output_type": "execute_result"
    }
   ],
   "source": [
    "agemean1, agemean2, agemean3 = train[\"Age\"].groupby([train[\"Pclass\"]]).mean()\n",
    "round(agemean1,2), round(agemean2,2), round(agemean3,2)"
   ]
  },
  {
   "cell_type": "code",
   "execution_count": 16,
   "id": "c5cb859a",
   "metadata": {},
   "outputs": [
    {
     "data": {
      "text/plain": [
       "0"
      ]
     },
     "execution_count": 16,
     "metadata": {},
     "output_type": "execute_result"
    }
   ],
   "source": [
    "miss_age = np.isnan(train[\"Age\"])\n",
    "class_1 = train[\"Pclass\"] == 1\n",
    "class_2 = train[\"Pclass\"] == 2\n",
    "class_3 = train[\"Pclass\"] == 3\n",
    "train.loc[class_1, \"Age\"] = train.loc[class_1, \"Age\"].fillna(agemean1)\n",
    "train.loc[class_2, \"Age\"] = train.loc[class_2, \"Age\"].fillna(agemean2)\n",
    "train.loc[class_3, \"Age\"] = train.loc[class_3, \"Age\"].fillna(agemean3)\n",
    "train.Age.isnull().sum()"
   ]
  },
  {
   "cell_type": "code",
   "execution_count": 17,
   "id": "e98cf786",
   "metadata": {},
   "outputs": [
    {
     "data": {
      "text/plain": [
       "86"
      ]
     },
     "execution_count": 17,
     "metadata": {},
     "output_type": "execute_result"
    }
   ],
   "source": [
    "test.Age.isnull().sum()"
   ]
  },
  {
   "cell_type": "markdown",
   "id": "f78aed82",
   "metadata": {},
   "source": [
    "We see that there are also missing values for age in the test data set, therefore we do the same thing for the test dataset."
   ]
  },
  {
   "cell_type": "code",
   "execution_count": 18,
   "id": "e8c83ce9",
   "metadata": {},
   "outputs": [
    {
     "data": {
      "text/plain": [
       "(40.92, 28.78, 24.03)"
      ]
     },
     "execution_count": 18,
     "metadata": {},
     "output_type": "execute_result"
    }
   ],
   "source": [
    "agemean_1_test, agemean_2_test, agemean_3_test = test[\"Age\"].groupby([test[\"Pclass\"]]).mean()\n",
    "round(agemean_1_test, 2), round(agemean_2_test, 2), round(agemean_3_test, 2)"
   ]
  },
  {
   "cell_type": "code",
   "execution_count": 19,
   "id": "a75bed41",
   "metadata": {},
   "outputs": [
    {
     "data": {
      "text/plain": [
       "0"
      ]
     },
     "execution_count": 19,
     "metadata": {},
     "output_type": "execute_result"
    }
   ],
   "source": [
    "miss_age_test = np.isnan(test[\"Age\"])\n",
    "class_1_test = test[\"Pclass\"] == 1\n",
    "class_2_test = test[\"Pclass\"] == 2\n",
    "class_3_test = test[\"Pclass\"] == 3\n",
    "test.loc[class_1_test, \"Age\"] = test.loc[class_1_test, \"Age\"].fillna(agemean_1_test)\n",
    "test.loc[class_2_test, \"Age\"] = test.loc[class_2_test, \"Age\"].fillna(agemean_2_test)\n",
    "test.loc[class_3_test, \"Age\"] = test.loc[class_3_test, \"Age\"].fillna(agemean_3_test)\n",
    "test.Age.isnull().sum()"
   ]
  },
  {
   "cell_type": "markdown",
   "id": "adc5ce7b",
   "metadata": {},
   "source": [
    "Now we can again run the above code and plot the histogram."
   ]
  },
  {
   "cell_type": "code",
   "execution_count": 20,
   "id": "0eacc084",
   "metadata": {},
   "outputs": [
    {
     "data": {
      "image/png": "[encoded data removed]",
      "text/plain": [
       "<Figure size 432x288 with 1 Axes>"
      ]
     },
     "metadata": {
      "needs_background": "light"
     },
     "output_type": "display_data"
    }
   ],
   "source": [
    "sns.distplot(train[\"Age\"]);"
   ]
  },
  {
   "cell_type": "markdown",
   "id": "b0bbc3fa",
   "metadata": {},
   "source": [
    "Now we can again run the above code and plot the histogram."
   ]
  },
  {
   "cell_type": "code",
   "execution_count": 21,
   "id": "ed5da4b1",
   "metadata": {},
   "outputs": [
    {
     "data": {
      "image/png": "[encoded data removed]",
      "text/plain": [
       "<Figure size 432x216 with 2 Axes>"
      ]
     },
     "metadata": {
      "needs_background": "light"
     },
     "output_type": "display_data"
    }
   ],
   "source": [
    "grid = sns.FacetGrid(data=train, col=\"Survived\")\n",
    "grid.map(sns.distplot, \"Age\");"
   ]
  },
  {
   "cell_type": "markdown",
   "id": "6d304f2b",
   "metadata": {},
   "source": [
    "SibSp"
   ]
  },
  {
   "cell_type": "code",
   "execution_count": 22,
   "id": "db6f6d15",
   "metadata": {},
   "outputs": [
    {
     "data": {
      "text/plain": [
       "0    608\n",
       "1    209\n",
       "2     28\n",
       "4     18\n",
       "3     16\n",
       "8      7\n",
       "5      5\n",
       "Name: SibSp, dtype: int64"
      ]
     },
     "execution_count": 22,
     "metadata": {},
     "output_type": "execute_result"
    }
   ],
   "source": [
    "train.SibSp.value_counts()"
   ]
  },
  {
   "cell_type": "markdown",
   "id": "1448e2d5",
   "metadata": {},
   "source": [
    "The variable SibSp contains information about the passenger having Siblings or Spouses aboard the titanic. Most people seem to be alone, or at least without any siblings or spouse. A large number of passengers does have 1 sibling or his/her spouse with them, those are probably mostly married couples. There also seem to be a few families."
   ]
  },
  {
   "cell_type": "markdown",
   "id": "26516ed6",
   "metadata": {},
   "source": [
    "Parch"
   ]
  },
  {
   "cell_type": "code",
   "execution_count": 23,
   "id": "10a6bb64",
   "metadata": {},
   "outputs": [
    {
     "data": {
      "text/plain": [
       "0    678\n",
       "1    118\n",
       "2     80\n",
       "5      5\n",
       "3      5\n",
       "4      4\n",
       "6      1\n",
       "Name: Parch, dtype: int64"
      ]
     },
     "execution_count": 23,
     "metadata": {},
     "output_type": "execute_result"
    }
   ],
   "source": [
    "train.Parch.value_counts()"
   ]
  },
  {
   "cell_type": "markdown",
   "id": "4d8fd1eb",
   "metadata": {},
   "source": [
    "Similar to the variable before, \"Parch\" states the number of the passenger's parents or children aboard the ship. It also indicates that most passengers are alone, however, there seem to be a few families."
   ]
  },
  {
   "cell_type": "markdown",
   "id": "1d05d930",
   "metadata": {},
   "source": [
    "Fare"
   ]
  },
  {
   "cell_type": "markdown",
   "id": "dbf66b7f",
   "metadata": {},
   "source": [
    "First, we take a look at the mean fares in the respective classes."
   ]
  },
  {
   "cell_type": "code",
   "execution_count": 24,
   "id": "c2e9128f",
   "metadata": {},
   "outputs": [
    {
     "name": "stdout",
     "output_type": "stream",
     "text": [
      "84.15\n",
      "20.66\n",
      "13.68\n"
     ]
    }
   ],
   "source": [
    "for i in [1,2,3]:\n",
    "    print(round(np.mean(train.Fare[train[\"Pclass\"] == i]), 2))"
   ]
  },
  {
   "cell_type": "markdown",
   "id": "84835f03",
   "metadata": {},
   "source": [
    "As expected there is a drastic decline in the fare from the first to the third class. Let's see next if there is a systematic difference between the fare of male and female passengers."
   ]
  },
  {
   "cell_type": "code",
   "execution_count": 25,
   "id": "4574370e",
   "metadata": {},
   "outputs": [
    {
     "name": "stdout",
     "output_type": "stream",
     "text": [
      "The Fare for female passengers in Class 1 is: 106.13\n",
      "The Fare for male passengers in Class 1 is: 67.23\n",
      "\n",
      "\n",
      "The Fare for female passengers in Class 2 is: 21.97\n",
      "The Fare for male passengers in Class 2 is: 19.74\n",
      "\n",
      "\n",
      "The Fare for female passengers in Class 3 is: 16.12\n",
      "The Fare for male passengers in Class 3 is: 12.66\n",
      "\n",
      "\n"
     ]
    }
   ],
   "source": [
    "for i in [1,2,3]:\n",
    "    print(\"The Fare for female passengers in Class \" + str(i) + \" is: \" + str(round(np.mean(train[\"Fare\"].loc[(train[\"Pclass\"] == i) & (train[\"Sex\"] == \"female\")]), 2))),\n",
    "    print(\"The Fare for male passengers in Class \" + str(i) + \" is: \" + str(round(np.mean(train[\"Fare\"].loc[(train[\"Pclass\"] == i) & (train[\"Sex\"] == \"male\")]), 2)))\n",
    "    print(\"\\n\")"
   ]
  },
  {
   "cell_type": "markdown",
   "id": "6b56c18c",
   "metadata": {},
   "source": [
    "The Fare seems to be higher for female passengers than for male passengers, is also consistent over all classes."
   ]
  },
  {
   "cell_type": "code",
   "execution_count": 26,
   "id": "66f5ff6e",
   "metadata": {},
   "outputs": [
    {
     "name": "stdout",
     "output_type": "stream",
     "text": [
      "Mean fare for passengers embarked in C: 59.95\n",
      "Mean fare for passengers embarked in S: 27.08\n",
      "Mean fare for passengers embarked in Q: 13.28\n"
     ]
    }
   ],
   "source": [
    "for harb in [\"C\", \"S\", \"Q\"]:\n",
    "    print(\"Mean fare for passengers embarked in \" + str(harb) + \": \" + str(round(np.mean(train.Fare[train[\"Embarked\"] == harb]), 2)))"
   ]
  },
  {
   "cell_type": "markdown",
   "id": "0327f6cf",
   "metadata": {},
   "source": [
    "Furthermore, the mean fare is the highest for people from Cherbourg and the lowest from passengers from Queenstown. An explanation for this is given further below (section Categorical Features - Embarked)."
   ]
  },
  {
   "cell_type": "code",
   "execution_count": 27,
   "id": "0e51753e",
   "metadata": {},
   "outputs": [
    {
     "name": "stdout",
     "output_type": "stream",
     "text": [
      "Mean fare for 1st class passengers embarked in C: 104.72\n",
      "Mean fare for 2nd class passengers embarked in C: 25.36\n",
      "Mean fare for 3rd class passengers embarked in C: 11.21\n",
      "\n",
      "\n",
      "Mean fare for 1st class passengers embarked in S: 70.36\n",
      "Mean fare for 2nd class passengers embarked in S: 20.33\n",
      "Mean fare for 3rd class passengers embarked in S: 14.64\n",
      "\n",
      "\n",
      "Mean fare for 1st class passengers embarked in Q: 90.0\n",
      "Mean fare for 2nd class passengers embarked in Q: 12.35\n",
      "Mean fare for 3rd class passengers embarked in Q: 11.18\n",
      "\n",
      "\n"
     ]
    }
   ],
   "source": [
    "for harb in [\"C\", \"S\", \"Q\"]:\n",
    "    print(\"Mean fare for 1st class passengers embarked in \" + str(harb) + \": \" + str(round(np.mean(train[\"Fare\"].loc[(train[\"Embarked\"] == harb) & (train[\"Pclass\"] == 1)]), 2)))\n",
    "    print(\"Mean fare for 2nd class passengers embarked in \" + str(harb) + \": \" + str(round(np.mean(train[\"Fare\"].loc[(train[\"Embarked\"] == harb) & (train[\"Pclass\"] == 2)]), 2)))\n",
    "    print(\"Mean fare for 3rd class passengers embarked in \" + str(harb) + \": \" + str(round(np.mean(train[\"Fare\"].loc[(train[\"Embarked\"] == harb) & (train[\"Pclass\"] == 3)]), 2)))\n",
    "    print(\"\\n\")"
   ]
  },
  {
   "cell_type": "markdown",
   "id": "c04eac3e",
   "metadata": {},
   "source": [
    "We cann see that in addition to the different prices in the respective classes there was some price differentiation between the different harbours with Cherbourg being the most expensive one."
   ]
  },
  {
   "cell_type": "markdown",
   "id": "3c05e3e9",
   "metadata": {},
   "source": [
    "Correlation between variables"
   ]
  },
  {
   "cell_type": "code",
   "execution_count": 28,
   "id": "a804fe03",
   "metadata": {},
   "outputs": [
    {
     "data": {
      "image/png": "[encoded data removed]",
      "text/plain": [
       "<Figure size 720x576 with 2 Axes>"
      ]
     },
     "metadata": {
      "needs_background": "light"
     },
     "output_type": "display_data"
    }
   ],
   "source": [
    "corr_mat = train.drop(\"PassengerId\", axis=1).corr()\n",
    "sns.heatmap(corr_mat, annot=True);\n",
    "fig =plt.gcf()\n",
    "fig.set_size_inches(10,8);"
   ]
  },
  {
   "cell_type": "markdown",
   "id": "66c5886a",
   "metadata": {},
   "source": [
    "The above heatmap shows the correlation between all numerical variables including our Target Variable \"Survived\". A correlation of 1 means a very strong linear relationship, a correlation coefficient of -1 means a very strong negative linear relationship between variables. A correlation of 0 means that the variables do not have a linear relationship at all."
   ]
  },
  {
   "cell_type": "markdown",
   "id": "4e2632da",
   "metadata": {},
   "source": [
    "We can learn from the heatmap that there is a pretty strong negative correlation of -0.55 between the class and the fare, which makes sense since tickets for the first and second class are more expensive than for the third class. Furthermore, there seems to be a negative relationship between the class and the chance of survival indicated by the correlation coefficient of -0.34. We have also seen this in the barplots created above. The correlation between the Fare and Survived is pretty strong as well (0.26), which probably stems from the fact that higher fares coincide with a lower (i.e. \"better\") class. The high correlation between SibSp and Parch of 0.41 lets us assume that there may be some families aboard."
   ]
  },
  {
   "cell_type": "markdown",
   "id": "721ff682",
   "metadata": {},
   "source": [
    "If there would be very high correlation between some variables, this specific variable would not contain much new information in addition to the correlated feature. This can cause our estimator to be less precise and is known as multicollinearity. The easiest and most appropriate solution would be just to drop one of the features or combining them in some way if possible. Since the highest correlation (in absolute values) is -0.55 multicollinearity is not a problem for our data and thus we can keep all of the features."
   ]
  },
  {
   "cell_type": "markdown",
   "id": "4ed14da3",
   "metadata": {},
   "source": [
    "Categorical Features"
   ]
  },
  {
   "cell_type": "markdown",
   "id": "58cf9a3c",
   "metadata": {},
   "source": [
    "Sex"
   ]
  },
  {
   "cell_type": "code",
   "execution_count": 29,
   "id": "0b8830f4",
   "metadata": {},
   "outputs": [
    {
     "data": {
      "text/plain": [
       "male      577\n",
       "female    314\n",
       "Name: Sex, dtype: int64"
      ]
     },
     "execution_count": 29,
     "metadata": {},
     "output_type": "execute_result"
    }
   ],
   "source": [
    "train.Sex.value_counts()"
   ]
  },
  {
   "cell_type": "code",
   "execution_count": 30,
   "id": "c5512c1e",
   "metadata": {},
   "outputs": [
    {
     "data": {
      "image/png": "[encoded data removed]",
      "text/plain": [
       "<Figure size 432x288 with 1 Axes>"
      ]
     },
     "metadata": {
      "needs_background": "light"
     },
     "output_type": "display_data"
    }
   ],
   "source": [
    "sns.countplot(data=train, x=\"Sex\", hue=\"Survived\");"
   ]
  },
  {
   "cell_type": "code",
   "execution_count": 31,
   "id": "e3cd1d38",
   "metadata": {},
   "outputs": [
    {
     "name": "stdout",
     "output_type": "stream",
     "text": [
      "0.1889\n",
      "0.742\n"
     ]
    }
   ],
   "source": [
    "print(round(np.mean(train.Survived[train[\"Sex\"]==\"male\"]), 4))\n",
    "print(round(np.mean(train.Survived[train[\"Sex\"]==\"female\"]), 4))"
   ]
  },
  {
   "cell_type": "markdown",
   "id": "a14c7b55",
   "metadata": {},
   "source": [
    "We can see that the number of females that survived is a lot higher than the number of males surviving although there are much more men on the Titanic than women (577 vs. 314). This is also reflected in the fraction of men and women who survived. While only 18.9% of the male passengers survived, over 74% of the female passengers survived the sinking."
   ]
  },
  {
   "cell_type": "markdown",
   "id": "b4cad5af",
   "metadata": {},
   "source": [
    "Let's take a look if this pattern is consistent through all classes."
   ]
  },
  {
   "cell_type": "code",
   "execution_count": 32,
   "id": "949154b7",
   "metadata": {},
   "outputs": [
    {
     "data": {
      "image/png": "[encoded data removed]",
      "text/plain": [
       "<Figure size 432x288 with 1 Axes>"
      ]
     },
     "metadata": {
      "needs_background": "light"
     },
     "output_type": "display_data"
    }
   ],
   "source": [
    "sns.barplot(data=train, x='Pclass', y='Survived', hue='Sex');"
   ]
  },
  {
   "cell_type": "markdown",
   "id": "be130252",
   "metadata": {},
   "source": [
    "We have qualitatively the same picture for each class, although the survival rates are higher in the more expensive classes in general."
   ]
  },
  {
   "cell_type": "markdown",
   "id": "7921eb4e",
   "metadata": {},
   "source": [
    "Cabin"
   ]
  },
  {
   "cell_type": "code",
   "execution_count": 33,
   "id": "0373ba4d",
   "metadata": {},
   "outputs": [
    {
     "data": {
      "text/plain": [
       "C23 C25 C27    4\n",
       "G6             4\n",
       "B96 B98        4\n",
       "C22 C26        3\n",
       "E101           3\n",
       "Name: Cabin, dtype: int64"
      ]
     },
     "execution_count": 33,
     "metadata": {},
     "output_type": "execute_result"
    }
   ],
   "source": [
    "train.Cabin.value_counts().head()"
   ]
  },
  {
   "cell_type": "code",
   "execution_count": 34,
   "id": "2cefbea3",
   "metadata": {},
   "outputs": [
    {
     "data": {
      "text/plain": [
       "687"
      ]
     },
     "execution_count": 34,
     "metadata": {},
     "output_type": "execute_result"
    }
   ],
   "source": [
    "train.Cabin.isnull().sum()"
   ]
  },
  {
   "cell_type": "markdown",
   "id": "0baf9e56",
   "metadata": {},
   "source": [
    "Since there are mostly unique values and 687 missing values we will just drop the column completely."
   ]
  },
  {
   "cell_type": "code",
   "execution_count": 35,
   "id": "c01f9506",
   "metadata": {},
   "outputs": [],
   "source": [
    "train = train.drop(\"Cabin\", axis=1)\n",
    "test = test.drop(\"Cabin\", axis=1)"
   ]
  },
  {
   "cell_type": "markdown",
   "id": "710fb441",
   "metadata": {},
   "source": [
    "Ticket"
   ]
  },
  {
   "cell_type": "code",
   "execution_count": 36,
   "id": "29f9fecf",
   "metadata": {},
   "outputs": [
    {
     "data": {
      "text/plain": [
       "<bound method IndexOpsMixin.value_counts of 0             A/5 21171\n",
       "1              PC 17599\n",
       "2      STON/O2. 3101282\n",
       "3                113803\n",
       "4                373450\n",
       "5                330877\n",
       "6                 17463\n",
       "7                349909\n",
       "8                347742\n",
       "9                237736\n",
       "10              PP 9549\n",
       "11               113783\n",
       "12            A/5. 2151\n",
       "13               347082\n",
       "14               350406\n",
       "15               248706\n",
       "16               382652\n",
       "17               244373\n",
       "18               345763\n",
       "19                 2649\n",
       "20               239865\n",
       "21               248698\n",
       "22               330923\n",
       "23               113788\n",
       "24               349909\n",
       "25               347077\n",
       "26                 2631\n",
       "27                19950\n",
       "28               330959\n",
       "29               349216\n",
       "             ...       \n",
       "861               28134\n",
       "862               17466\n",
       "863            CA. 2343\n",
       "864              233866\n",
       "865              236852\n",
       "866       SC/PARIS 2149\n",
       "867            PC 17590\n",
       "868              345777\n",
       "869              347742\n",
       "870              349248\n",
       "871               11751\n",
       "872                 695\n",
       "873              345765\n",
       "874           P/PP 3381\n",
       "875                2667\n",
       "876                7534\n",
       "877              349212\n",
       "878              349217\n",
       "879               11767\n",
       "880              230433\n",
       "881              349257\n",
       "882                7552\n",
       "883    C.A./SOTON 34068\n",
       "884     SOTON/OQ 392076\n",
       "885              382652\n",
       "886              211536\n",
       "887              112053\n",
       "888          W./C. 6607\n",
       "889              111369\n",
       "890              370376\n",
       "Name: Ticket, Length: 891, dtype: object>"
      ]
     },
     "execution_count": 36,
     "metadata": {},
     "output_type": "execute_result"
    }
   ],
   "source": [
    "train[\"Ticket\"].value_counts"
   ]
  },
  {
   "cell_type": "markdown",
   "id": "7fdad369",
   "metadata": {},
   "source": [
    "The \"Ticket\" feature contains the Ticket number. These are mainly unique values, therefore not adding much explanatory power to our prediction model. Thus, we just drop this column as well."
   ]
  },
  {
   "cell_type": "code",
   "execution_count": 37,
   "id": "e99297d6",
   "metadata": {},
   "outputs": [],
   "source": [
    "train = train.drop(\"Ticket\", axis=1)\n",
    "test = test.drop(\"Ticket\", axis=1)"
   ]
  },
  {
   "cell_type": "markdown",
   "id": "1d3fcd7c",
   "metadata": {},
   "source": [
    "Embarked"
   ]
  },
  {
   "cell_type": "code",
   "execution_count": 38,
   "id": "3108b6df",
   "metadata": {},
   "outputs": [
    {
     "data": {
      "text/plain": [
       "S    644\n",
       "C    168\n",
       "Q     77\n",
       "Name: Embarked, dtype: int64"
      ]
     },
     "execution_count": 38,
     "metadata": {},
     "output_type": "execute_result"
    }
   ],
   "source": [
    "train.Embarked.value_counts()"
   ]
  },
  {
   "cell_type": "markdown",
   "id": "f00f5ec2",
   "metadata": {},
   "source": [
    "The categories of embarkment are C, Q and S which are the first letters of Cherbourg, Queenstown and Southhampton. Most passengers are embarked in Southhampton, the least frequent category is Queenstown."
   ]
  },
  {
   "cell_type": "code",
   "execution_count": 39,
   "id": "f7b9ff53",
   "metadata": {},
   "outputs": [
    {
     "data": {
      "image/png": "[encoded data removed]",
      "text/plain": [
       "<Figure size 432x288 with 1 Axes>"
      ]
     },
     "metadata": {
      "needs_background": "light"
     },
     "output_type": "display_data"
    }
   ],
   "source": [
    "sns.barplot(data=train, x=\"Embarked\", y=\"Survived\", hue=\"Sex\");"
   ]
  },
  {
   "cell_type": "markdown",
   "id": "2e18bbf6",
   "metadata": {},
   "source": [
    "Interestingly, the fraction of people who survived is higher for Cherbourg. The fraction of male survivors is much higher in Southhampton compared to Queenstown, while the fraction of female survivors is higher for Queenstown compared to Southhampton. The high survival rates for Cherbourg might be high due to the fact that first class passengers are mostly embarked in Cherbourg, so we will further investigate that now."
   ]
  },
  {
   "cell_type": "code",
   "execution_count": 40,
   "id": "3a2af512",
   "metadata": {},
   "outputs": [
    {
     "data": {
      "text/plain": [
       "<seaborn.axisgrid.FacetGrid at 0x29786f94668>"
      ]
     },
     "execution_count": 40,
     "metadata": {},
     "output_type": "execute_result"
    },
    {
     "data": {
      "image/png": "[encoded data removed]",
      "text/plain": [
       "<Figure size 648x216 with 3 Axes>"
      ]
     },
     "metadata": {
      "needs_background": "light"
     },
     "output_type": "display_data"
    }
   ],
   "source": [
    "grid = sns.FacetGrid(data=train, col=\"Embarked\")\n",
    "grid.map(sns.countplot, \"Pclass\")"
   ]
  },
  {
   "cell_type": "markdown",
   "id": "baef26b9",
   "metadata": {},
   "source": [
    "Cherbourg is the only category for which the number of first class passengers is the highest, which confirms the assumption from above. At the same time in Queenstown are embarked almost only passengers from the third class which explains the low survival rates for male passengers."
   ]
  },
  {
   "cell_type": "markdown",
   "id": "6ae1221e",
   "metadata": {},
   "source": [
    "# Feature Engineering"
   ]
  },
  {
   "cell_type": "code",
   "execution_count": 41,
   "id": "32a4dad3",
   "metadata": {},
   "outputs": [
    {
     "data": {
      "text/plain": [
       "((891, 10), (418, 10), (1309, 10))"
      ]
     },
     "execution_count": 41,
     "metadata": {},
     "output_type": "execute_result"
    }
   ],
   "source": [
    "X = train.drop(\"Survived\", axis=1)\n",
    "y = train[\"Survived\"]\n",
    "X[\"train\"] = 1\n",
    "test[\"train\"] = 0\n",
    "data = pd.concat([X, test])\n",
    "X.shape, test.shape, data.shape"
   ]
  },
  {
   "cell_type": "markdown",
   "id": "6aa4b0e0",
   "metadata": {},
   "source": [
    "Age Band"
   ]
  },
  {
   "cell_type": "markdown",
   "id": "1da06834",
   "metadata": {},
   "source": [
    "Since age is a continuous variable we first want to convert into a categorical variable containing age bands."
   ]
  },
  {
   "cell_type": "code",
   "execution_count": 42,
   "id": "e0deb310",
   "metadata": {},
   "outputs": [
    {
     "data": {
      "text/plain": [
       "count    1309.000000\n",
       "mean       29.329730\n",
       "std        13.127747\n",
       "min         0.170000\n",
       "25%        22.000000\n",
       "50%        26.000000\n",
       "75%        37.000000\n",
       "max        80.000000\n",
       "Name: Age, dtype: float64"
      ]
     },
     "execution_count": 42,
     "metadata": {},
     "output_type": "execute_result"
    }
   ],
   "source": [
    "data.Age.describe()"
   ]
  },
  {
   "cell_type": "markdown",
   "id": "ffea52b4",
   "metadata": {},
   "source": [
    "The lowest value for Age in our datasets is 0.17 years, the oldest passenger is 80 years old. We want to convert the age into 5 categories. In order to get balanced groups we will orientate our splitting at percentiles."
   ]
  },
  {
   "cell_type": "code",
   "execution_count": 43,
   "id": "7af5ea2f",
   "metadata": {},
   "outputs": [
    {
     "data": {
      "text/plain": [
       "0.2    21.00000\n",
       "0.4    25.14062\n",
       "0.6    29.87763\n",
       "0.8    39.00000\n",
       "Name: Age, dtype: float64"
      ]
     },
     "execution_count": 43,
     "metadata": {},
     "output_type": "execute_result"
    }
   ],
   "source": [
    "data.Age.quantile([0.2, 0.4, 0.6, 0.8])"
   ]
  },
  {
   "cell_type": "code",
   "execution_count": 44,
   "id": "0dcf0fe5",
   "metadata": {},
   "outputs": [],
   "source": [
    "data[\"age_cat\"] = str(1)\n",
    "data.loc[data[\"Age\"] <= 21, \"age_cat\"] = str(1)\n",
    "data.loc[(data[\"Age\"] > 20) & (data[\"Age\"] <= 25), \"age_cat\"] = str(2)\n",
    "data.loc[(data[\"Age\"] > 25) & (data[\"Age\"] <= 30), \"age_cat\"] = str(3)\n",
    "data.loc[(data[\"Age\"] > 30) & (data[\"Age\"] <= 40), \"age_cat\"] = str(4)\n",
    "data.loc[data[\"Age\"] > 40, \"age_cat\"] = str(5)"
   ]
  },
  {
   "cell_type": "code",
   "execution_count": 45,
   "id": "5561501b",
   "metadata": {},
   "outputs": [
    {
     "data": {
      "text/plain": [
       "3    318\n",
       "2    267\n",
       "1    248\n",
       "4    240\n",
       "5    236\n",
       "Name: age_cat, dtype: int64"
      ]
     },
     "execution_count": 45,
     "metadata": {},
     "output_type": "execute_result"
    }
   ],
   "source": [
    "data.age_cat.value_counts()"
   ]
  },
  {
   "cell_type": "markdown",
   "id": "ba74101b",
   "metadata": {},
   "source": [
    "Child"
   ]
  },
  {
   "cell_type": "markdown",
   "id": "5fd1e402",
   "metadata": {},
   "source": [
    "In addition to the age category we just defined, we assume that being a child increases the probability of surviving. Since our youngest age category ranges from newborn to 20 year olds, this is not really reflected by the data yet. We therefore define a dummy variable indicating if a passenger is a child. We do so by saying that children are people younger than 16."
   ]
  },
  {
   "cell_type": "code",
   "execution_count": 46,
   "id": "af470714",
   "metadata": {},
   "outputs": [],
   "source": [
    "data[\"child\"] = 0\n",
    "data.loc[data[\"Age\"] <= 16, \"child\"] = 1"
   ]
  },
  {
   "cell_type": "markdown",
   "id": "f3c529f0",
   "metadata": {},
   "source": [
    "Since there is a very high positive correlation between Age and the categorical age variable (which is not surprising since it contains mostly the same information just structured), we are going to drop the continuous age variable."
   ]
  },
  {
   "cell_type": "code",
   "execution_count": 47,
   "id": "29cf7e7b",
   "metadata": {},
   "outputs": [],
   "source": [
    "data = data.drop(\"Age\", axis=1)"
   ]
  },
  {
   "cell_type": "markdown",
   "id": "ab7b2353",
   "metadata": {},
   "source": [
    "Fare bands"
   ]
  },
  {
   "cell_type": "markdown",
   "id": "aae55246",
   "metadata": {},
   "source": [
    "In the same way as with Age we can proceed with the fares paid by each passenger. Here, we will not define bands by hand, but we use the pandas function qcut(). We use 10 categories to divide the fares into. After doing so, we can drop the original fare column. However, before we can create the bands we check for missing values."
   ]
  },
  {
   "cell_type": "code",
   "execution_count": 48,
   "id": "2e53c0a8",
   "metadata": {},
   "outputs": [
    {
     "data": {
      "text/html": [
       "<div>\n",
       "<style scoped>\n",
       "    .dataframe tbody tr th:only-of-type {\n",
       "        vertical-align: middle;\n",
       "    }\n",
       "\n",
       "    .dataframe tbody tr th {\n",
       "        vertical-align: top;\n",
       "    }\n",
       "\n",
       "    .dataframe thead th {\n",
       "        text-align: right;\n",
       "    }\n",
       "</style>\n",
       "<table border=\"1\" class=\"dataframe\">\n",
       "  <thead>\n",
       "    <tr style=\"text-align: right;\">\n",
       "      <th></th>\n",
       "      <th>PassengerId</th>\n",
       "      <th>Pclass</th>\n",
       "      <th>Name</th>\n",
       "      <th>Sex</th>\n",
       "      <th>SibSp</th>\n",
       "      <th>Parch</th>\n",
       "      <th>Fare</th>\n",
       "      <th>Embarked</th>\n",
       "      <th>train</th>\n",
       "      <th>age_cat</th>\n",
       "      <th>child</th>\n",
       "    </tr>\n",
       "  </thead>\n",
       "  <tbody>\n",
       "    <tr>\n",
       "      <th>152</th>\n",
       "      <td>1044</td>\n",
       "      <td>3</td>\n",
       "      <td>Storey, Mr. Thomas</td>\n",
       "      <td>male</td>\n",
       "      <td>0</td>\n",
       "      <td>0</td>\n",
       "      <td>NaN</td>\n",
       "      <td>S</td>\n",
       "      <td>0</td>\n",
       "      <td>5</td>\n",
       "      <td>0</td>\n",
       "    </tr>\n",
       "  </tbody>\n",
       "</table>\n",
       "</div>"
      ],
      "text/plain": [
       "     PassengerId  Pclass                Name   Sex  SibSp  Parch  Fare  \\\n",
       "152         1044       3  Storey, Mr. Thomas  male      0      0   NaN   \n",
       "\n",
       "    Embarked  train age_cat  child  \n",
       "152        S      0       5      0  "
      ]
     },
     "execution_count": 48,
     "metadata": {},
     "output_type": "execute_result"
    }
   ],
   "source": [
    "data[data[\"Fare\"].isnull()]"
   ]
  },
  {
   "cell_type": "markdown",
   "id": "ec85b33e",
   "metadata": {},
   "source": [
    "The observation missing the Fare data belongs to the third class and was embarked in Southhampton. We will therefore impute the missing with the mean Fare of passengers from the third class embarked in Southhampton. Since we have seen before that the fares are systematically lower for male passengers we also take into account that the passenger with the missing fare value is male."
   ]
  },
  {
   "cell_type": "code",
   "execution_count": 49,
   "id": "9cbce02a",
   "metadata": {},
   "outputs": [],
   "source": [
    "data.loc[data[\"Fare\"].isnull(), \"Fare\"] = np.mean(data[\"Fare\"].loc[(data[\"Pclass\"] == 3) & (data[\"Embarked\"] == \"S\") & (data[\"Sex\"] == \"male\")])"
   ]
  },
  {
   "cell_type": "markdown",
   "id": "ae7f3786",
   "metadata": {},
   "source": [
    "Now we can continue creating the fare categories based on quantiles."
   ]
  },
  {
   "cell_type": "code",
   "execution_count": 50,
   "id": "5fca018e",
   "metadata": {},
   "outputs": [],
   "source": [
    "data[\"Fare_cat\"] = pd.qcut(data[\"Fare\"], 10)"
   ]
  },
  {
   "cell_type": "code",
   "execution_count": 51,
   "id": "1e37e88d",
   "metadata": {},
   "outputs": [],
   "source": [
    "data = data.drop(\"Fare\", axis=1)"
   ]
  },
  {
   "cell_type": "markdown",
   "id": "80208cad",
   "metadata": {},
   "source": [
    "Family Size SibSp + ParCh"
   ]
  },
  {
   "cell_type": "markdown",
   "id": "ee804e94",
   "metadata": {},
   "source": [
    "Since we have information about the number of Siblings and Spouses and about the number of parents or children for each passenger, we can use these features to create a feature that contains the number of a particular family that was aboard the ship. We call it family_size."
   ]
  },
  {
   "cell_type": "code",
   "execution_count": 52,
   "id": "bcefe923",
   "metadata": {},
   "outputs": [
    {
     "data": {
      "text/plain": [
       "1     790\n",
       "2     235\n",
       "3     159\n",
       "4      43\n",
       "6      25\n",
       "5      22\n",
       "7      16\n",
       "11     11\n",
       "8       8\n",
       "Name: family_size, dtype: int64"
      ]
     },
     "execution_count": 52,
     "metadata": {},
     "output_type": "execute_result"
    }
   ],
   "source": [
    "data[\"family_size\"] = data[\"SibSp\"] + data[\"Parch\"] + 1\n",
    "data.family_size.value_counts()"
   ]
  },
  {
   "cell_type": "markdown",
   "id": "2154f567",
   "metadata": {},
   "source": [
    "We can now drop the features SibSp and Parch."
   ]
  },
  {
   "cell_type": "code",
   "execution_count": 53,
   "id": "4968cd22",
   "metadata": {},
   "outputs": [],
   "source": [
    "data = data.drop([\"SibSp\", \"Parch\"], axis=1)"
   ]
  },
  {
   "cell_type": "markdown",
   "id": "3402b5cc",
   "metadata": {},
   "source": [
    "Title"
   ]
  },
  {
   "cell_type": "code",
   "execution_count": 54,
   "id": "22f201c3",
   "metadata": {},
   "outputs": [
    {
     "data": {
      "text/plain": [
       "0                              Braund, Mr. Owen Harris\n",
       "1    Cumings, Mrs. John Bradley (Florence Briggs Th...\n",
       "2                               Heikkinen, Miss. Laina\n",
       "3         Futrelle, Mrs. Jacques Heath (Lily May Peel)\n",
       "4                             Allen, Mr. William Henry\n",
       "5                                     Moran, Mr. James\n",
       "6                              McCarthy, Mr. Timothy J\n",
       "7                       Palsson, Master. Gosta Leonard\n",
       "8    Johnson, Mrs. Oscar W (Elisabeth Vilhelmina Berg)\n",
       "9                  Nasser, Mrs. Nicholas (Adele Achem)\n",
       "Name: Name, dtype: object"
      ]
     },
     "execution_count": 54,
     "metadata": {},
     "output_type": "execute_result"
    }
   ],
   "source": [
    "data.Name.head(10)"
   ]
  },
  {
   "cell_type": "markdown",
   "id": "b4c0b02f",
   "metadata": {},
   "source": [
    "Looking at the passenger's names, we notice that there are titles attached to them. The structure of this column is \"Last name, title first name\". We can now extract those titles."
   ]
  },
  {
   "cell_type": "code",
   "execution_count": 55,
   "id": "3b40f4e6",
   "metadata": {},
   "outputs": [
    {
     "data": {
      "text/plain": [
       " Mr              757\n",
       " Miss            260\n",
       " Mrs             197\n",
       " Master           61\n",
       " Dr                8\n",
       " Rev               8\n",
       " Col               4\n",
       " Mlle              2\n",
       " Major             2\n",
       " Ms                2\n",
       " Sir               1\n",
       " the Countess      1\n",
       " Lady              1\n",
       " Don               1\n",
       " Dona              1\n",
       " Mme               1\n",
       " Jonkheer          1\n",
       " Capt              1\n",
       "Name: Title, dtype: int64"
      ]
     },
     "execution_count": 55,
     "metadata": {},
     "output_type": "execute_result"
    }
   ],
   "source": [
    "data[\"Title\"] = data.Name.str.split(\",\", expand=True)[1].str.split(\".\", expand=True)[0]\n",
    "data[\"Title\"].value_counts()"
   ]
  },
  {
   "cell_type": "markdown",
   "id": "8944a88b",
   "metadata": {},
   "source": [
    "We see that the most frequent titles are simply Mr and Miss. We also see that there seem to be, for example, many different titles for women, e.g. Miss, Mrs, Ms, Mlle (Mademoiselle). We therefore group the titles into 5 categories: Mr, Mrs (married females), Miss, Master and other."
   ]
  },
  {
   "cell_type": "code",
   "execution_count": 56,
   "id": "0938d063",
   "metadata": {},
   "outputs": [
    {
     "data": {
      "text/plain": [
       "<matplotlib.axes._subplots.AxesSubplot at 0x297872a8320>"
      ]
     },
     "execution_count": 56,
     "metadata": {},
     "output_type": "execute_result"
    },
    {
     "data": {
      "image/png": "[encoded data removed]",
      "text/plain": [
       "<Figure size 432x288 with 1 Axes>"
      ]
     },
     "metadata": {
      "needs_background": "light"
     },
     "output_type": "display_data"
    }
   ],
   "source": [
    "data[\"Title\"] = data[\"Title\"].apply(lambda x: x.replace(\"Mme\", \"Mrs\"))\n",
    "data[\"Title\"] = data[\"Title\"].apply(lambda x: x.replace(\"Mlle\", \"Miss\"))\n",
    "data[\"Title\"] = data[\"Title\"].apply(lambda x: x.replace(\"Ms\", \"Miss\"))\n",
    "data[\"Title\"] = data[\"Title\"].apply(lambda x: x.replace(\"Dona\", \"Other\"))\n",
    "data[\"Title\"] = data[\"Title\"].apply(lambda x: x.replace(\"Don\", \"Other\"))\n",
    "data[\"Title\"] = data[\"Title\"].apply(lambda x: x.replace(\"Rev\", \"Other\"))\n",
    "data[\"Title\"] = data[\"Title\"].apply(lambda x: x.replace(\"Dr\", \"Other\"))\n",
    "data[\"Title\"] = data[\"Title\"].apply(lambda x: x.replace(\"Major\", \"Other\"))\n",
    "data[\"Title\"] = data[\"Title\"].apply(lambda x: x.replace(\"Lady\", \"Other\"))\n",
    "data[\"Title\"] = data[\"Title\"].apply(lambda x: x.replace(\"Sir\", \"Other\"))\n",
    "data[\"Title\"] = data[\"Title\"].apply(lambda x: x.replace(\"Col\", \"Other\"))\n",
    "data[\"Title\"] = data[\"Title\"].apply(lambda x: x.replace(\"Capt\", \"Other\"))\n",
    "data[\"Title\"] = data[\"Title\"].apply(lambda x: x.replace(\"the Countess\", \"Other\"))\n",
    "data[\"Title\"] = data[\"Title\"].apply(lambda x: x.replace(\"Jonkheer\", \"Other\"))\n",
    "sns.countplot(data=data, x=\"Title\")"
   ]
  },
  {
   "cell_type": "markdown",
   "id": "cc4c8e52",
   "metadata": {},
   "source": [
    "We can now drop the Name column."
   ]
  },
  {
   "cell_type": "code",
   "execution_count": 57,
   "id": "95b8a9fc",
   "metadata": {},
   "outputs": [],
   "source": [
    "data = data.drop(\"Name\", axis=1)"
   ]
  },
  {
   "cell_type": "markdown",
   "id": "728b8c13",
   "metadata": {},
   "source": [
    "Missings"
   ]
  },
  {
   "cell_type": "markdown",
   "id": "6f73d32f",
   "metadata": {},
   "source": [
    "Before starting the modelling part of this notebook, we take a quick look if there are any missing values in addition to those we already took care of."
   ]
  },
  {
   "cell_type": "code",
   "execution_count": 58,
   "id": "8a5d9ac2",
   "metadata": {},
   "outputs": [
    {
     "data": {
      "text/plain": [
       "PassengerId    0\n",
       "Pclass         0\n",
       "Sex            0\n",
       "Embarked       2\n",
       "train          0\n",
       "age_cat        0\n",
       "child          0\n",
       "Fare_cat       0\n",
       "family_size    0\n",
       "Title          0\n",
       "dtype: int64"
      ]
     },
     "execution_count": 58,
     "metadata": {},
     "output_type": "execute_result"
    }
   ],
   "source": [
    "data.isnull().sum()"
   ]
  },
  {
   "cell_type": "markdown",
   "id": "408ddea5",
   "metadata": {},
   "source": [
    "There are two more missing values for Embarked. We proceed in a similar manner as we have done so with Age above. However, instead of using means we impute the missings with the most frequent value in the respective class."
   ]
  },
  {
   "cell_type": "code",
   "execution_count": 59,
   "id": "745fb4ba",
   "metadata": {},
   "outputs": [
    {
     "data": {
      "text/html": [
       "<div>\n",
       "<style scoped>\n",
       "    .dataframe tbody tr th:only-of-type {\n",
       "        vertical-align: middle;\n",
       "    }\n",
       "\n",
       "    .dataframe tbody tr th {\n",
       "        vertical-align: top;\n",
       "    }\n",
       "\n",
       "    .dataframe thead th {\n",
       "        text-align: right;\n",
       "    }\n",
       "</style>\n",
       "<table border=\"1\" class=\"dataframe\">\n",
       "  <thead>\n",
       "    <tr style=\"text-align: right;\">\n",
       "      <th></th>\n",
       "      <th>PassengerId</th>\n",
       "      <th>Pclass</th>\n",
       "      <th>Sex</th>\n",
       "      <th>Embarked</th>\n",
       "      <th>train</th>\n",
       "      <th>age_cat</th>\n",
       "      <th>child</th>\n",
       "      <th>Fare_cat</th>\n",
       "      <th>family_size</th>\n",
       "      <th>Title</th>\n",
       "    </tr>\n",
       "  </thead>\n",
       "  <tbody>\n",
       "    <tr>\n",
       "      <th>61</th>\n",
       "      <td>62</td>\n",
       "      <td>1</td>\n",
       "      <td>female</td>\n",
       "      <td>NaN</td>\n",
       "      <td>1</td>\n",
       "      <td>4</td>\n",
       "      <td>0</td>\n",
       "      <td>(78.02, 512.329]</td>\n",
       "      <td>1</td>\n",
       "      <td>Miss</td>\n",
       "    </tr>\n",
       "    <tr>\n",
       "      <th>829</th>\n",
       "      <td>830</td>\n",
       "      <td>1</td>\n",
       "      <td>female</td>\n",
       "      <td>NaN</td>\n",
       "      <td>1</td>\n",
       "      <td>5</td>\n",
       "      <td>0</td>\n",
       "      <td>(78.02, 512.329]</td>\n",
       "      <td>1</td>\n",
       "      <td>Mrs</td>\n",
       "    </tr>\n",
       "  </tbody>\n",
       "</table>\n",
       "</div>"
      ],
      "text/plain": [
       "     PassengerId  Pclass     Sex Embarked  train age_cat  child  \\\n",
       "61            62       1  female      NaN      1       4      0   \n",
       "829          830       1  female      NaN      1       5      0   \n",
       "\n",
       "             Fare_cat  family_size  Title  \n",
       "61   (78.02, 512.329]            1   Miss  \n",
       "829  (78.02, 512.329]            1    Mrs  "
      ]
     },
     "execution_count": 59,
     "metadata": {},
     "output_type": "execute_result"
    }
   ],
   "source": [
    "data[data[\"Embarked\"].isnull()]"
   ]
  },
  {
   "cell_type": "code",
   "execution_count": 60,
   "id": "96ad8b45",
   "metadata": {},
   "outputs": [
    {
     "data": {
      "text/plain": [
       "S    177\n",
       "C    141\n",
       "Q      3\n",
       "Name: Embarked, dtype: int64"
      ]
     },
     "execution_count": 60,
     "metadata": {},
     "output_type": "execute_result"
    }
   ],
   "source": [
    "data[\"Embarked\"].loc[data[\"Pclass\"] == 1].value_counts()"
   ]
  },
  {
   "cell_type": "markdown",
   "id": "038abaaa",
   "metadata": {},
   "source": [
    "The most frequent value of Embarked for passengers in the first class is Southhampton."
   ]
  },
  {
   "cell_type": "code",
   "execution_count": 62,
   "id": "cafb3242",
   "metadata": {},
   "outputs": [],
   "source": [
    "data.loc[data[\"Embarked\"].isnull(), \"Embarked\"] = \"S\""
   ]
  },
  {
   "cell_type": "code",
   "execution_count": 63,
   "id": "9b673d18",
   "metadata": {},
   "outputs": [
    {
     "data": {
      "text/plain": [
       "PassengerId    0\n",
       "Pclass         0\n",
       "Sex            0\n",
       "Embarked       0\n",
       "train          0\n",
       "age_cat        0\n",
       "child          0\n",
       "Fare_cat       0\n",
       "family_size    0\n",
       "Title          0\n",
       "dtype: int64"
      ]
     },
     "execution_count": 63,
     "metadata": {},
     "output_type": "execute_result"
    }
   ],
   "source": [
    "data.isnull().sum()"
   ]
  },
  {
   "cell_type": "markdown",
   "id": "5d985606",
   "metadata": {},
   "source": [
    "Our data looks good now, there are no more missing values."
   ]
  },
  {
   "cell_type": "markdown",
   "id": "8d4e141a",
   "metadata": {},
   "source": [
    "Dummy variables"
   ]
  },
  {
   "cell_type": "markdown",
   "id": "10a820d6",
   "metadata": {},
   "source": [
    "sklearn cannot handle categorical data, therefore we need to transform categorical features into dummy variables. If we have, for example, sex as a categorical feature (\"male\" or \"female\") and we convert this feature into dummies we get one dummy for \"male\" (0: no, 1: yes) and one for \"female\". Since both features are just linear combinations of each other (i.e. if we have the value for \"male\" we also have the value for \"female\") this would cause perfect multicollinearity. We therefore drop the first category dummy per feature to prevent this."
   ]
  },
  {
   "cell_type": "code",
   "execution_count": 64,
   "id": "6146564a",
   "metadata": {},
   "outputs": [
    {
     "data": {
      "text/html": [
       "<div>\n",
       "<style scoped>\n",
       "    .dataframe tbody tr th:only-of-type {\n",
       "        vertical-align: middle;\n",
       "    }\n",
       "\n",
       "    .dataframe tbody tr th {\n",
       "        vertical-align: top;\n",
       "    }\n",
       "\n",
       "    .dataframe thead th {\n",
       "        text-align: right;\n",
       "    }\n",
       "</style>\n",
       "<table border=\"1\" class=\"dataframe\">\n",
       "  <thead>\n",
       "    <tr style=\"text-align: right;\">\n",
       "      <th></th>\n",
       "      <th>PassengerId</th>\n",
       "      <th>Pclass</th>\n",
       "      <th>train</th>\n",
       "      <th>child</th>\n",
       "      <th>family_size</th>\n",
       "      <th>Sex_male</th>\n",
       "      <th>Embarked_Q</th>\n",
       "      <th>Embarked_S</th>\n",
       "      <th>age_cat_2</th>\n",
       "      <th>age_cat_3</th>\n",
       "      <th>...</th>\n",
       "      <th>Fare_cat_(10.5, 14.454]</th>\n",
       "      <th>Fare_cat_(14.454, 21.558]</th>\n",
       "      <th>Fare_cat_(21.558, 26.82]</th>\n",
       "      <th>Fare_cat_(26.82, 41.579]</th>\n",
       "      <th>Fare_cat_(41.579, 78.02]</th>\n",
       "      <th>Fare_cat_(78.02, 512.329]</th>\n",
       "      <th>Title_ Miss</th>\n",
       "      <th>Title_ Mr</th>\n",
       "      <th>Title_ Mrs</th>\n",
       "      <th>Title_ Other</th>\n",
       "    </tr>\n",
       "  </thead>\n",
       "  <tbody>\n",
       "    <tr>\n",
       "      <th>0</th>\n",
       "      <td>1</td>\n",
       "      <td>3</td>\n",
       "      <td>1</td>\n",
       "      <td>0</td>\n",
       "      <td>2</td>\n",
       "      <td>1</td>\n",
       "      <td>0</td>\n",
       "      <td>1</td>\n",
       "      <td>1</td>\n",
       "      <td>0</td>\n",
       "      <td>...</td>\n",
       "      <td>0</td>\n",
       "      <td>0</td>\n",
       "      <td>0</td>\n",
       "      <td>0</td>\n",
       "      <td>0</td>\n",
       "      <td>0</td>\n",
       "      <td>0</td>\n",
       "      <td>1</td>\n",
       "      <td>0</td>\n",
       "      <td>0</td>\n",
       "    </tr>\n",
       "    <tr>\n",
       "      <th>1</th>\n",
       "      <td>2</td>\n",
       "      <td>1</td>\n",
       "      <td>1</td>\n",
       "      <td>0</td>\n",
       "      <td>2</td>\n",
       "      <td>0</td>\n",
       "      <td>0</td>\n",
       "      <td>0</td>\n",
       "      <td>0</td>\n",
       "      <td>0</td>\n",
       "      <td>...</td>\n",
       "      <td>0</td>\n",
       "      <td>0</td>\n",
       "      <td>0</td>\n",
       "      <td>0</td>\n",
       "      <td>1</td>\n",
       "      <td>0</td>\n",
       "      <td>0</td>\n",
       "      <td>0</td>\n",
       "      <td>1</td>\n",
       "      <td>0</td>\n",
       "    </tr>\n",
       "    <tr>\n",
       "      <th>2</th>\n",
       "      <td>3</td>\n",
       "      <td>3</td>\n",
       "      <td>1</td>\n",
       "      <td>0</td>\n",
       "      <td>1</td>\n",
       "      <td>0</td>\n",
       "      <td>0</td>\n",
       "      <td>1</td>\n",
       "      <td>0</td>\n",
       "      <td>1</td>\n",
       "      <td>...</td>\n",
       "      <td>0</td>\n",
       "      <td>0</td>\n",
       "      <td>0</td>\n",
       "      <td>0</td>\n",
       "      <td>0</td>\n",
       "      <td>0</td>\n",
       "      <td>1</td>\n",
       "      <td>0</td>\n",
       "      <td>0</td>\n",
       "      <td>0</td>\n",
       "    </tr>\n",
       "    <tr>\n",
       "      <th>3</th>\n",
       "      <td>4</td>\n",
       "      <td>1</td>\n",
       "      <td>1</td>\n",
       "      <td>0</td>\n",
       "      <td>2</td>\n",
       "      <td>0</td>\n",
       "      <td>0</td>\n",
       "      <td>1</td>\n",
       "      <td>0</td>\n",
       "      <td>0</td>\n",
       "      <td>...</td>\n",
       "      <td>0</td>\n",
       "      <td>0</td>\n",
       "      <td>0</td>\n",
       "      <td>0</td>\n",
       "      <td>1</td>\n",
       "      <td>0</td>\n",
       "      <td>0</td>\n",
       "      <td>0</td>\n",
       "      <td>1</td>\n",
       "      <td>0</td>\n",
       "    </tr>\n",
       "    <tr>\n",
       "      <th>4</th>\n",
       "      <td>5</td>\n",
       "      <td>3</td>\n",
       "      <td>1</td>\n",
       "      <td>0</td>\n",
       "      <td>1</td>\n",
       "      <td>1</td>\n",
       "      <td>0</td>\n",
       "      <td>1</td>\n",
       "      <td>0</td>\n",
       "      <td>0</td>\n",
       "      <td>...</td>\n",
       "      <td>0</td>\n",
       "      <td>0</td>\n",
       "      <td>0</td>\n",
       "      <td>0</td>\n",
       "      <td>0</td>\n",
       "      <td>0</td>\n",
       "      <td>0</td>\n",
       "      <td>1</td>\n",
       "      <td>0</td>\n",
       "      <td>0</td>\n",
       "    </tr>\n",
       "  </tbody>\n",
       "</table>\n",
       "<p>5 rows × 25 columns</p>\n",
       "</div>"
      ],
      "text/plain": [
       "   PassengerId  Pclass  train  child  family_size  Sex_male  Embarked_Q  \\\n",
       "0            1       3      1      0            2         1           0   \n",
       "1            2       1      1      0            2         0           0   \n",
       "2            3       3      1      0            1         0           0   \n",
       "3            4       1      1      0            2         0           0   \n",
       "4            5       3      1      0            1         1           0   \n",
       "\n",
       "   Embarked_S  age_cat_2  age_cat_3  ...  Fare_cat_(10.5, 14.454]  \\\n",
       "0           1          1          0  ...                        0   \n",
       "1           0          0          0  ...                        0   \n",
       "2           1          0          1  ...                        0   \n",
       "3           1          0          0  ...                        0   \n",
       "4           1          0          0  ...                        0   \n",
       "\n",
       "   Fare_cat_(14.454, 21.558]  Fare_cat_(21.558, 26.82]  \\\n",
       "0                          0                         0   \n",
       "1                          0                         0   \n",
       "2                          0                         0   \n",
       "3                          0                         0   \n",
       "4                          0                         0   \n",
       "\n",
       "   Fare_cat_(26.82, 41.579]  Fare_cat_(41.579, 78.02]  \\\n",
       "0                         0                         0   \n",
       "1                         0                         1   \n",
       "2                         0                         0   \n",
       "3                         0                         1   \n",
       "4                         0                         0   \n",
       "\n",
       "   Fare_cat_(78.02, 512.329]  Title_ Miss  Title_ Mr  Title_ Mrs  Title_ Other  \n",
       "0                          0            0          1           0             0  \n",
       "1                          0            0          0           1             0  \n",
       "2                          0            1          0           0             0  \n",
       "3                          0            0          0           1             0  \n",
       "4                          0            0          1           0             0  \n",
       "\n",
       "[5 rows x 25 columns]"
      ]
     },
     "execution_count": 64,
     "metadata": {},
     "output_type": "execute_result"
    }
   ],
   "source": [
    "data = pd.get_dummies(data, drop_first=True)\n",
    "data.head()"
   ]
  },
  {
   "cell_type": "markdown",
   "id": "bbdfe012",
   "metadata": {},
   "source": [
    "We can now split our data again into the training and the test set. To do so, we have defined a binary variable \"train\" before concatenating both data frames. We can now use this indicator to split them again. After doing so, we drop the PassengerId in since it does not add any information to our model."
   ]
  },
  {
   "cell_type": "code",
   "execution_count": 65,
   "id": "9c651398",
   "metadata": {},
   "outputs": [
    {
     "data": {
      "text/plain": [
       "((891, 24), (891,), (418, 24))"
      ]
     },
     "execution_count": 65,
     "metadata": {},
     "output_type": "execute_result"
    }
   ],
   "source": [
    "X = data[data[\"train\"]==1]\n",
    "X = X.drop(\"PassengerId\", axis=1)\n",
    "test = data[data[\"train\"]==0]\n",
    "ID = test[\"PassengerId\"] # saving the test set PassengerId for submission file\n",
    "test = test.drop(\"PassengerId\", axis=1)\n",
    "X.shape, y.shape, test.shape"
   ]
  },
  {
   "cell_type": "markdown",
   "id": "fd72bbbc",
   "metadata": {},
   "source": [
    "Building the Predictive Models"
   ]
  },
  {
   "cell_type": "markdown",
   "id": "7579f7ca",
   "metadata": {},
   "source": [
    "We have used a Random Forest Classifier algorithms"
   ]
  },
  {
   "cell_type": "markdown",
   "id": "2d21e11d",
   "metadata": {},
   "source": [
    "Random Forest"
   ]
  },
  {
   "cell_type": "markdown",
   "id": "fabb2498",
   "metadata": {},
   "source": [
    "We are going to start with the Random Forest Classifier."
   ]
  },
  {
   "cell_type": "code",
   "execution_count": 66,
   "id": "d7d21046",
   "metadata": {},
   "outputs": [],
   "source": [
    "from sklearn.ensemble import RandomForestClassifier\n",
    "from sklearn.metrics import accuracy_score\n",
    "from sklearn.metrics import confusion_matrix\n",
    "from sklearn import preprocessing\n",
    "from sklearn.pipeline import Pipeline\n",
    "from sklearn.model_selection import train_test_split\n",
    "from sklearn.model_selection import GridSearchCV\n",
    "from sklearn.model_selection import RandomizedSearchCV"
   ]
  },
  {
   "cell_type": "markdown",
   "id": "ad90dc1d",
   "metadata": {},
   "source": [
    "At first we have to split our data into a training set and a test set, on which the models can be evaluated on later."
   ]
  },
  {
   "cell_type": "code",
   "execution_count": 67,
   "id": "d3596b72",
   "metadata": {},
   "outputs": [
    {
     "data": {
      "text/plain": [
       "((712, 24), (179, 24), (712,), (179,))"
      ]
     },
     "execution_count": 67,
     "metadata": {},
     "output_type": "execute_result"
    }
   ],
   "source": [
    "X_train, X_test, y_train, y_test = train_test_split(X, y, test_size=0.2, random_state=123)\n",
    "X_train.shape, X_test.shape, y_train.shape, y_test.shape"
   ]
  },
  {
   "cell_type": "markdown",
   "id": "5f10b3cd",
   "metadata": {},
   "source": [
    "Then we create our pipeline object, define the functions that should be applied and define a grid with the parameters we want to tune and the range from which RandomizedSearchCV should draw from."
   ]
  },
  {
   "cell_type": "code",
   "execution_count": 68,
   "id": "e0229f31",
   "metadata": {},
   "outputs": [],
   "source": [
    "steps_rf = [(\"scaler\", preprocessing.StandardScaler()), (\"rf_class\", RandomForestClassifier(random_state=123))]\n",
    "pipeline_rf = Pipeline(steps_rf)\n",
    "\n",
    "# define our hyperparameter grid\n",
    "n_estimators = list(np.arange(200, 2001, 200))\n",
    "max_features = [\"auto\", \"sqrt\", \"log2\"]\n",
    "max_depth = list(np.arange(10, 101, 10))\n",
    "max_depth.append(None)\n",
    "min_samples_split = [2, 5, 10]\n",
    "min_samples_leaf = [1, 2, 4, 8]\n",
    "bootstrap = [True, False]\n",
    "param_dist = {\"rf_class__n_estimators\": n_estimators,\n",
    "              \"rf_class__max_features\": max_features,\n",
    "              \"rf_class__max_depth\": max_depth,\n",
    "              \"rf_class__min_samples_split\": min_samples_split,\n",
    "              \"rf_class__min_samples_leaf\": min_samples_leaf,\n",
    "              \"rf_class__bootstrap\": bootstrap}"
   ]
  },
  {
   "cell_type": "markdown",
   "id": "95a2a680",
   "metadata": {},
   "source": [
    "We can now start to narrow down the range for our hyperparameters by using using RandomizedSearchCV to get a first hint of the ideally chosen hyperparameters for our data."
   ]
  },
  {
   "cell_type": "code",
   "execution_count": 69,
   "id": "9ad1ff4c",
   "metadata": {},
   "outputs": [],
   "source": [
    "cv_random_rf = RandomizedSearchCV(pipeline_rf, param_dist, cv=5, n_iter=50, n_jobs=16, verbose=1)"
   ]
  },
  {
   "cell_type": "code",
   "execution_count": 70,
   "id": "4542282b",
   "metadata": {},
   "outputs": [
    {
     "name": "stdout",
     "output_type": "stream",
     "text": [
      "Fitting 5 folds for each of 50 candidates, totalling 250 fits\n"
     ]
    },
    {
     "data": {
      "text/plain": [
       "RandomizedSearchCV(cv=5,\n",
       "                   estimator=Pipeline(steps=[('scaler', StandardScaler()),\n",
       "                                             ('rf_class',\n",
       "                                              RandomForestClassifier(random_state=123))]),\n",
       "                   n_iter=50, n_jobs=16,\n",
       "                   param_distributions={'rf_class__bootstrap': [True, False],\n",
       "                                        'rf_class__max_depth': [10, 20, 30, 40,\n",
       "                                                                50, 60, 70, 80,\n",
       "                                                                90, 100, None],\n",
       "                                        'rf_class__max_features': ['auto',\n",
       "                                                                   'sqrt',\n",
       "                                                                   'log2'],\n",
       "                                        'rf_class__min_samples_leaf': [1, 2, 4,\n",
       "                                                                       8],\n",
       "                                        'rf_class__min_samples_split': [2, 5,\n",
       "                                                                        10],\n",
       "                                        'rf_class__n_estimators': [200, 400,\n",
       "                                                                   600, 800,\n",
       "                                                                   1000, 1200,\n",
       "                                                                   1400, 1600,\n",
       "                                                                   1800,\n",
       "                                                                   2000]},\n",
       "                   verbose=1)"
      ]
     },
     "execution_count": 70,
     "metadata": {},
     "output_type": "execute_result"
    }
   ],
   "source": [
    "cv_random_rf.fit(X_train, y_train)"
   ]
  },
  {
   "cell_type": "code",
   "execution_count": 71,
   "id": "7a37ab67",
   "metadata": {},
   "outputs": [
    {
     "data": {
      "text/plain": [
       "{'rf_class__n_estimators': 1000,\n",
       " 'rf_class__min_samples_split': 10,\n",
       " 'rf_class__min_samples_leaf': 4,\n",
       " 'rf_class__max_features': 'auto',\n",
       " 'rf_class__max_depth': 70,\n",
       " 'rf_class__bootstrap': True}"
      ]
     },
     "execution_count": 71,
     "metadata": {},
     "output_type": "execute_result"
    }
   ],
   "source": [
    "cv_random_rf.best_params_"
   ]
  },
  {
   "cell_type": "markdown",
   "id": "8af6194a",
   "metadata": {},
   "source": [
    "Based on the chosen parameters from RandomizedSearchCV we can now manually decrease the range of the hyperparameters to be tested and use GridSearchCV as before to find the best parameters for our model."
   ]
  },
  {
   "cell_type": "code",
   "execution_count": 72,
   "id": "2cdb364b",
   "metadata": {},
   "outputs": [],
   "source": [
    "n_estimators_2 = list(np.arange(1800, 2001, 50))\n",
    "max_depth_2 = list(np.arange(50, 91, 10))\n",
    "max_features_2 = [\"auto\"]\n",
    "min_samples_split_2 = [5, 10, 15]\n",
    "min_samples_leaf_2 = [2, 4, 6]\n",
    "bootstrap_2 = [True]\n",
    "param_grid = {\"rf_class__n_estimators\": n_estimators_2,\n",
    "              \"rf_class__max_depth\": max_depth_2,\n",
    "              \"rf_class__max_features\": max_features_2,\n",
    "              \"rf_class__min_samples_split\": min_samples_split_2,\n",
    "              \"rf_class__min_samples_leaf\": min_samples_leaf_2,\n",
    "              \"rf_class__bootstrap\": bootstrap_2}"
   ]
  },
  {
   "cell_type": "code",
   "execution_count": 73,
   "id": "9dcb78c7",
   "metadata": {},
   "outputs": [
    {
     "name": "stdout",
     "output_type": "stream",
     "text": [
      "Fitting 5 folds for each of 225 candidates, totalling 1125 fits\n"
     ]
    },
    {
     "data": {
      "text/plain": [
       "GridSearchCV(cv=5,\n",
       "             estimator=Pipeline(steps=[('scaler', StandardScaler()),\n",
       "                                       ('rf_class',\n",
       "                                        RandomForestClassifier(random_state=123))]),\n",
       "             n_jobs=16,\n",
       "             param_grid={'rf_class__bootstrap': [True],\n",
       "                         'rf_class__max_depth': [50, 60, 70, 80, 90],\n",
       "                         'rf_class__max_features': ['auto'],\n",
       "                         'rf_class__min_samples_leaf': [2, 4, 6],\n",
       "                         'rf_class__min_samples_split': [5, 10, 15],\n",
       "                         'rf_class__n_estimators': [1800, 1850, 1900, 1950,\n",
       "                                                    2000]},\n",
       "             verbose=1)"
      ]
     },
     "execution_count": 73,
     "metadata": {},
     "output_type": "execute_result"
    }
   ],
   "source": [
    "cv_rf = GridSearchCV(pipeline_rf, param_grid, cv=5, n_jobs=16, verbose=1)\n",
    "cv_rf.fit(X_train, y_train)"
   ]
  },
  {
   "cell_type": "code",
   "execution_count": 74,
   "id": "5a677cb8",
   "metadata": {},
   "outputs": [
    {
     "data": {
      "text/plain": [
       "{'rf_class__bootstrap': True,\n",
       " 'rf_class__max_depth': 50,\n",
       " 'rf_class__max_features': 'auto',\n",
       " 'rf_class__min_samples_leaf': 4,\n",
       " 'rf_class__min_samples_split': 10,\n",
       " 'rf_class__n_estimators': 1800}"
      ]
     },
     "execution_count": 74,
     "metadata": {},
     "output_type": "execute_result"
    }
   ],
   "source": [
    "cv_rf.best_params_"
   ]
  },
  {
   "cell_type": "markdown",
   "id": "668a7db1",
   "metadata": {},
   "source": [
    "We now can evaluate our model on our hold out test set using the accuracy metric."
   ]
  },
  {
   "cell_type": "code",
   "execution_count": 75,
   "id": "f6476248",
   "metadata": {},
   "outputs": [
    {
     "data": {
      "text/plain": [
       "0.8547"
      ]
     },
     "execution_count": 75,
     "metadata": {},
     "output_type": "execute_result"
    }
   ],
   "source": [
    "y_pred_rf = cv_rf.predict(X_test)\n",
    "round(accuracy_score(y_test, y_pred_rf), 4)"
   ]
  },
  {
   "cell_type": "markdown",
   "id": "176e62d0",
   "metadata": {},
   "source": [
    "We get an accuray of 0.8547, which means that the model correctly classified 85.5% of the unseen test data, which is pretty good. We can also plot the confusion matrix."
   ]
  },
  {
   "cell_type": "code",
   "execution_count": 76,
   "id": "114761d9",
   "metadata": {},
   "outputs": [
    {
     "data": {
      "text/plain": [
       "[Text(26.5, 0.5, 'Predicted Label'), Text(0.5, 8.5, 'True label')]"
      ]
     },
     "execution_count": 76,
     "metadata": {},
     "output_type": "execute_result"
    },
    {
     "data": {
      "image/png": "[encoded data removed]",
      "text/plain": [
       "<Figure size 432x288 with 2 Axes>"
      ]
     },
     "metadata": {},
     "output_type": "display_data"
    }
   ],
   "source": [
    "cm_rf = pd.DataFrame(confusion_matrix(y_test, y_pred_rf))\n",
    "sns.set(font_scale=1.4)\n",
    "cm_rf = sns.heatmap(cm_rf, annot=True, fmt=\"g\")\n",
    "cm_rf.set(xlabel=\"True label\", ylabel=\"Predicted Label\")"
   ]
  },
  {
   "cell_type": "code",
   "execution_count": null,
   "id": "cbe098fb",
   "metadata": {},
   "outputs": [],
   "source": []
  },
  {
   "cell_type": "code",
   "execution_count": null,
   "id": "3da3c9d8",
   "metadata": {},
   "outputs": [],
   "source": []
  },
  {
   "cell_type": "code",
   "execution_count": 77,
   "id": "0c5fa4c1",
   "metadata": {},
   "outputs": [],
   "source": [
    "train = pd.read_csv(\"train.csv\") # read in data\n",
    "# age\n",
    "agemean1, agemean2, agemean3 = train[\"Age\"].groupby([train[\"Pclass\"]]).mean()\n",
    "miss_age = np.isnan(train[\"Age\"])\n",
    "class_1 = train[\"Pclass\"] == 1\n",
    "class_2 = train[\"Pclass\"] == 2\n",
    "class_3 = train[\"Pclass\"] == 3\n",
    "train.loc[class_1, \"Age\"] = train.loc[class_1, \"Age\"].fillna(agemean1)\n",
    "train.loc[class_2, \"Age\"] = train.loc[class_2, \"Age\"].fillna(agemean2)\n",
    "train.loc[class_3, \"Age\"] = train.loc[class_3, \"Age\"].fillna(agemean3)\n",
    "train.Age = train.Age.astype(int)\n",
    "\n",
    "# convert class to object\n",
    "train.Pclass = train.Pclass.astype(object)\n",
    "\n",
    "# drop cabin and ticket\n",
    "train = train.drop(\"Cabin\", axis=1)\n",
    "train = train.drop(\"Ticket\", axis=1)\n",
    "\n",
    "# child dummy\n",
    "train[\"child\"] = 0\n",
    "train.loc[train[\"Age\"] <= 16, \"child\"] = 1\n",
    "\n",
    "# drop fare variable\n",
    "train.drop(\"Fare\", axis=1, inplace=True)\n",
    "\n",
    "# create family size, i.e. oneself + children + spouse\n",
    "train[\"family_size\"] = train[\"SibSp\"] + train[\"Parch\"] + 1\n",
    "train = train.drop([\"SibSp\", \"Parch\"], axis=1)\n",
    "\n",
    "# drop name variable\n",
    "train = train.drop(\"Name\", axis=1)\n",
    "\n",
    "# embarked\n",
    "train.loc[train[\"Embarked\"].isnull(), \"Embarked\"] = \"S\"\n",
    "\n",
    "# drop passenger id\n",
    "train = train.drop(\"PassengerId\", axis=1)\n",
    "\n",
    "# create dummy variables\n",
    "train = pd.get_dummies(train, drop_first=False)"
   ]
  },
  {
   "cell_type": "code",
   "execution_count": 78,
   "id": "4f293408",
   "metadata": {},
   "outputs": [
    {
     "name": "stdout",
     "output_type": "stream",
     "text": [
      "Fitting 5 folds for each of 100 candidates, totalling 500 fits\n"
     ]
    }
   ],
   "source": [
    "from sklearn.ensemble import RandomForestClassifier\n",
    "from sklearn.pipeline import Pipeline\n",
    "from sklearn.model_selection import train_test_split\n",
    "from sklearn.model_selection import GridSearchCV\n",
    "from sklearn.model_selection import RandomizedSearchCV\n",
    "import pickle\n",
    "\n",
    "y = train.Survived\n",
    "X = train.drop(\"Survived\", axis=1)\n",
    "\n",
    "# initialize the model\n",
    "steps_rf = [(\"rf_class\", RandomForestClassifier(random_state=123))]\n",
    "pipeline_rf = Pipeline(steps_rf)\n",
    "\n",
    "# define the hyperparameter grid for RandomSearch\n",
    "n_estimators = list(np.arange(200, 2001, 200))\n",
    "max_features = [\"auto\", \"sqrt\", \"log2\"]\n",
    "max_depth = list(np.arange(10, 101, 10))\n",
    "max_depth.append(None)\n",
    "min_samples_split = [2, 5, 10]\n",
    "min_samples_leaf = [1, 2, 4, 8]\n",
    "bootstrap = [True, False]\n",
    "param_dist = {\"rf_class__n_estimators\": n_estimators,\n",
    "              \"rf_class__max_features\": max_features,\n",
    "              \"rf_class__max_depth\": max_depth,\n",
    "              \"rf_class__min_samples_split\": min_samples_split,\n",
    "              \"rf_class__min_samples_leaf\": min_samples_leaf,\n",
    "              \"rf_class__bootstrap\": bootstrap}\n",
    "\n",
    "# RandomSearchCV\n",
    "rf = RandomizedSearchCV(pipeline_rf, param_dist, cv=5, n_iter=100, n_jobs=14, verbose=1)\n",
    "rf.fit(X, y)\n",
    "\n",
    "# Save to file in the current working directory\n",
    "pkl_filename = \"rfSimple.pkl\"\n",
    "with open(pkl_filename, 'wb') as file:\n",
    "    pickle.dump(rf, file)"
   ]
  },
  {
   "cell_type": "code",
   "execution_count": null,
   "id": "9a8b5c05",
   "metadata": {},
   "outputs": [],
   "source": []
  },
  {
   "cell_type": "code",
   "execution_count": null,
   "id": "7416cd62",
   "metadata": {},
   "outputs": [],
   "source": []
  },
  {
   "cell_type": "code",
   "execution_count": null,
   "id": "456f2d96",
   "metadata": {},
   "outputs": [],
   "source": []
  },
  {
   "cell_type": "code",
   "execution_count": null,
   "id": "965f0389",
   "metadata": {},
   "outputs": [],
   "source": []
  }
 ],
 "metadata": {
  "kernelspec": {
   "display_name": "Python 3",
   "language": "python",
   "name": "python3"
  },
  "language_info": {
   "codemirror_mode": {
    "name": "ipython",
    "version": 3
   },
   "file_extension": ".py",
   "mimetype": "text/x-python",
   "name": "python",
   "nbconvert_exporter": "python",
   "pygments_lexer": "ipython3",
   "version": "3.7.3"
  }
 },
 "nbformat": 4,
 "nbformat_minor": 5
}
